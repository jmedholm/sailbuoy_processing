{
 "cells": [
  {
   "cell_type": "code",
   "execution_count": 1,
   "id": "4a065a9d-7e8d-4f76-94ba-2e64ff274756",
   "metadata": {},
   "outputs": [],
   "source": [
    "import xarray as xr\n",
    "from datetime import date\n",
    "import dl_tools"
   ]
  },
  {
   "cell_type": "markdown",
   "id": "449436a1-d818-4021-94e6-e0cc71b62896",
   "metadata": {
    "tags": []
   },
   "source": [
    "# Kringla"
   ]
  },
  {
   "cell_type": "markdown",
   "id": "8dbec206-27b8-4145-9eff-651b18242654",
   "metadata": {},
   "source": [
    "Load and prep the data.txt from the datalogger."
   ]
  },
  {
   "cell_type": "code",
   "execution_count": 2,
   "id": "59c9be72-dafc-4dca-8471-60e5b1755042",
   "metadata": {},
   "outputs": [],
   "source": [
    "path = '/Users/xedhjo/Downloads/drive-download-20230511T124300Z-001/DATA.TXT'"
   ]
  },
  {
   "cell_type": "code",
   "execution_count": 3,
   "id": "96b10766-76b5-40de-863e-2098c2bd494e",
   "metadata": {},
   "outputs": [
    {
     "data": {
      "application/vnd.jupyter.widget-view+json": {
       "model_id": "4a91e1d999be4d0ea773bd30e9dced50",
       "version_major": 2,
       "version_minor": 0
      },
      "text/plain": [
       "Checking lines in input file:   0%|          | 0/8533 [00:00<?, ?it/s]"
      ]
     },
     "metadata": {},
     "output_type": "display_data"
    },
    {
     "name": "stdout",
     "output_type": "stream",
     "text": [
      "8531 good measurements found in input file\n",
      "2 bad lines found in input file\n",
      "\n"
     ]
    }
   ],
   "source": [
    "ds = dl_tools.load_sb(path)                                                      # Loading the data\n",
    "ds = dl_tools.fix_standard_attrs(ds)                                             # Setting attributes and names for the standard variables\n",
    "ds = dl_tools.fix_airmar(ds)                                                     # Setting attributes and names for the Airmar variables\n",
    "ds = dl_tools.fix_dcps(ds)                                                       # Setting attributes and names for the DCPS variables\n",
    "ds = dl_tools.fix_aadi(ds)                                                       # Setting attributes and names for the AADI Conductivity variables\n",
    "ds = ds.sortby('time').sel(time=slice('2023-03-06 11:20','2023-05-04 04:40'))    # Sorting in time, and selecting the time for the mission"
   ]
  },
  {
   "cell_type": "markdown",
   "id": "6a4cd9f4-753d-4868-913b-5b40ee92b967",
   "metadata": {},
   "source": [
    "#### Assigning the metadata"
   ]
  },
  {
   "cell_type": "code",
   "execution_count": 4,
   "id": "bed25c1f-1340-40c1-8017-6e2268b760b0",
   "metadata": {},
   "outputs": [],
   "source": [
    "ds.attrs['title']                   = 'SB Kringla Datalogger'\n",
    "ds.attrs['summary']                 = 'Datalogger output from Sailbuoy Kringla'\n",
    "ds.attrs['conventions']             = 'CF-1.6, ACDD-1.3'\n",
    "ds.attrs['creator_name']            = 'Johan Edholm'\n",
    "ds.attrs['platform']                = 'Uncrewed surface vehicle'\n",
    "ds.attrs['instrument_name']         = 'Kringla'\n",
    "ds.attrs['instrument_id']           = '1812'\n",
    "ds.attrs['institution']             = 'University of Gothenburg'\n",
    "ds.attrs['creator_email']           = 'johan.edholm@gu.se'\n",
    "ds.attrs['area']                    = 'Southern Ocean'\n",
    "ds.attrs['project']                 = 'QUICCHE'\n",
    "ds.attrs['id']                      = 'SB Kringla Datalogger QUICCHE'\n",
    "ds.attrs['instrument']              = 'Offshore Sensing AS Sailbuoy'\n",
    "ds.attrs['owner']                   = 'University of Gothenburg'\n",
    "ds.attrs['contact']                 = 'sebastiaan.swart@marine.gu.se'\n",
    "ds.attrs['note']                    = 'Apologies to anyone that is forced to work with this data...'\n",
    "ds.attrs['processing_date']         = str(date.today())\n",
    "ds.attrs['processing_level']        = '2'\n",
    "ds.attrs['time_coverate_start']     = str(ds.time[0].values)\n",
    "ds.attrs['time_coverate_end']       = str(ds.time[-1].values)\n",
    "ds.attrs['geospatial_lat_min']      = str(ds.latitude.min().values)\n",
    "ds.attrs['geospatial_lat_max']      = str(ds.latitude.max().values)\n",
    "ds.attrs['geospatial_lon_min']      = str(ds.longitude.min().values)\n",
    "ds.attrs['geospatial_lon_max']      = str(ds.longitude.max().values)"
   ]
  },
  {
   "cell_type": "code",
   "execution_count": 7,
   "id": "150347d7-8c09-47d8-a11d-3726b0794150",
   "metadata": {},
   "outputs": [],
   "source": [
    "ds.to_netcdf('/Users/xedhjo/Documents/Projects/QUICCHE/data/Kringla_QUICCHE_data.nc')"
   ]
  },
  {
   "cell_type": "markdown",
   "id": "9326ce39-2db4-409d-bbc8-18e50dc0d6f2",
   "metadata": {},
   "source": [
    "# PimPim"
   ]
  },
  {
   "cell_type": "code",
   "execution_count": 5,
   "id": "84edaedd-3308-4983-b3ba-4ce8bd957d8e",
   "metadata": {},
   "outputs": [],
   "source": [
    "path = '/Users/xedhjo/Documents/Projects/QUICCHE/data/sailbuoy/PimPim/full/DATA.TXT'"
   ]
  },
  {
   "cell_type": "code",
   "execution_count": 6,
   "id": "bfc9afc5-69c2-49fb-9dea-44f185f742e5",
   "metadata": {},
   "outputs": [
    {
     "data": {
      "application/vnd.jupyter.widget-view+json": {
       "model_id": "5c44b7c0124e467f979f6e281c536c71",
       "version_major": 2,
       "version_minor": 0
      },
      "text/plain": [
       "Checking lines in input file:   0%|          | 0/8995 [00:00<?, ?it/s]"
      ]
     },
     "metadata": {},
     "output_type": "display_data"
    },
    {
     "name": "stdout",
     "output_type": "stream",
     "text": [
      "8995 good measurements found in input file\n",
      "0 bad lines found in input file\n",
      "\n"
     ]
    }
   ],
   "source": [
    "#path = '/Users/xedhjo/Documents/Projects/SO-CHIC/data/DATA.TXT'\n",
    "\n",
    "ds = dl_tools.load_sb(path)                                          # Loading the data\n",
    "ds = dl_tools.fix_standard_attrs(ds)                                 # Setting attributes and names for the standard variables\n",
    "ds = dl_tools.fix_FT(ds)                                             # Setting attributes and names for the Airmar variables\n",
    "ds = dl_tools.fix_dcps(ds)                                           # Setting attributes and names for the DCPS variables\n",
    "ds = dl_tools.fix_legato(ds)                                         # Setting attributes and names for the AADI Conductivity variables\n",
    "ds = dl_tools.fix_T9602(ds)                                          # Setting attributes and names for the AADI Conductivity variables\n",
    "ds = ds.sortby('time').where(ds.ssc > 0,drop=True)"
   ]
  },
  {
   "cell_type": "code",
   "execution_count": 12,
   "id": "45a08d04-3f01-4e23-b3b9-2a89a40dfcea",
   "metadata": {},
   "outputs": [],
   "source": [
    "ds.attrs['title']                   = 'SB PimPim Datalogger'\n",
    "ds.attrs['summary']                 = 'Datalogger output from Sailbuoy PimPim'\n",
    "ds.attrs['conventions']             = 'CF-1.6, ACDD-1.3'\n",
    "ds.attrs['creator_name']            = 'Johan Edholm'\n",
    "ds.attrs['platform']                = 'Uncrewed surface vehicle'\n",
    "ds.attrs['instrument_name']         = 'PimPim'\n",
    "ds.attrs['instrument_id']           = '2326'\n",
    "ds.attrs['institution']             = 'University of Gothenburg'\n",
    "ds.attrs['creator_email']           = 'johan.edholm@gu.se'\n",
    "ds.attrs['area']                    = 'Cape Cauldron'\n",
    "ds.attrs['project']                 = 'QUICCHE'\n",
    "ds.attrs['id']                      = 'SB PimPim Datalogger QUICCHE'\n",
    "ds.attrs['instrument']              = 'Offshore Sensing AS Sailbuoy'\n",
    "ds.attrs['owner']                   = 'University of Gothenburg'\n",
    "ds.attrs['contact']                 = 'sebastiaan.swart@marine.gu.se'\n",
    "ds.attrs['note']                    = 'Apologies to anyone that is forced to work with this data...'\n",
    "ds.attrs['processing_date']         = str(date.today())\n",
    "ds.attrs['processing_level']        = '2'\n",
    "ds.attrs['time_coverate_start']     = str(ds.time[0].values)\n",
    "ds.attrs['time_coverate_end']       = str(ds.time[-1].values)\n",
    "ds.attrs['geospatial_lat_min']      = str(ds.latitude.min().values)\n",
    "ds.attrs['geospatial_lat_max']      = str(ds.latitude.max().values)\n",
    "ds.attrs['geospatial_lon_min']      = str(ds.longitude.min().values)\n",
    "ds.attrs['geospatial_lon_max']      = str(ds.longitude.max().values)"
   ]
  },
  {
   "cell_type": "code",
   "execution_count": 15,
   "id": "0c0c146d-a0ef-403c-a55e-95727a3a9e0a",
   "metadata": {},
   "outputs": [],
   "source": [
    "ds.to_netcdf(path[:-3] + 'nc')"
   ]
  }
 ],
 "metadata": {
  "kernelspec": {
   "display_name": "Python 3 (ipykernel)",
   "language": "python",
   "name": "python3"
  },
  "language_info": {
   "codemirror_mode": {
    "name": "ipython",
    "version": 3
   },
   "file_extension": ".py",
   "mimetype": "text/x-python",
   "name": "python",
   "nbconvert_exporter": "python",
   "pygments_lexer": "ipython3",
   "version": "3.11.3"
  }
 },
 "nbformat": 4,
 "nbformat_minor": 5
}
