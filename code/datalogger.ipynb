{
 "cells": [
  {
   "cell_type": "code",
   "execution_count": 5,
   "id": "4a065a9d-7e8d-4f76-94ba-2e64ff274756",
   "metadata": {},
   "outputs": [
    {
     "name": "stdout",
     "output_type": "stream",
     "text": [
      "The autoreload extension is already loaded. To reload it, use:\n",
      "  %reload_ext autoreload\n"
     ]
    }
   ],
   "source": [
    "%load_ext autoreload\n",
    "%autoreload 1\n",
    "\n",
    "%matplotlib inline\n",
    "\n",
    "import xarray as xr\n",
    "import pandas as pd\n",
    "import datetime\n",
    "import matplotlib.dates as mdates\n",
    "import gsw\n",
    "import glidertools as gt\n",
    "from tqdm.notebook import tqdm_notebook as tqdm\n",
    "import geomag\n",
    "from cmocean import cm as cmo\n",
    "import matplotlib.image as mpimg\n",
    "import matplotlib as mpl\n",
    "import cartopy.crs as ccrs\n",
    "from mpl_toolkits.axes_grid1 import make_axes_locatable\n",
    "from matplotlib.ticker import (MultipleLocator, FormatStrFormatter,AutoMinorLocator)\n",
    "from tqdm.notebook import tqdm_notebook as tqdm\n",
    "from cartopy.mpl.gridliner import LONGITUDE_FORMATTER, LATITUDE_FORMATTER\n",
    "import seaborn as sns\n",
    "import matplotlib.ticker as mticker\n",
    "import sys\n",
    "from datetime import date\n",
    "\n",
    "sys.path.append('/Volumes/MASSIVEUNIT/Work/SOCHIC_2022/sailbuoy_processing/code/')\n",
    "\n",
    "%aimport dl_tools\n",
    "\n",
    "font = {'family' : 'Avenir',\n",
    "        'weight' : 'normal',\n",
    "        'size'   : 30}\n",
    "\n",
    "mpl.rc('font', **font)\n",
    "\n",
    "mpl.rcParams['xtick.major.size'] = 10\n",
    "mpl.rcParams['xtick.major.width'] = 2\n",
    "mpl.rcParams['xtick.minor.size'] = 6\n",
    "mpl.rcParams['xtick.minor.width'] = 1\n",
    "\n",
    "def rot_ticks(axs,rot,ha):\n",
    "    for xlabels in axs.get_xticklabels():\n",
    "                xlabels.set_rotation(rot)\n",
    "                xlabels.set_ha(ha)"
   ]
  },
  {
   "cell_type": "markdown",
   "id": "449436a1-d818-4021-94e6-e0cc71b62896",
   "metadata": {
    "tags": []
   },
   "source": [
    "# SB Kringla"
   ]
  },
  {
   "cell_type": "markdown",
   "id": "8dbec206-27b8-4145-9eff-651b18242654",
   "metadata": {},
   "source": [
    "Load and prep the data.txt from the datalogger."
   ]
  },
  {
   "cell_type": "code",
   "execution_count": 6,
   "id": "96b10766-76b5-40de-863e-2098c2bd494e",
   "metadata": {},
   "outputs": [
    {
     "data": {
      "application/vnd.jupyter.widget-view+json": {
       "model_id": "0a60690faf5d4fc7b52f6ede36e30a85",
       "version_major": 2,
       "version_minor": 0
      },
      "text/plain": [
       "Checking lines in input file:   0%|          | 0/20213 [00:00<?, ?it/s]"
      ]
     },
     "metadata": {},
     "output_type": "display_data"
    },
    {
     "name": "stdout",
     "output_type": "stream",
     "text": [
      "20208 good measurements found in input file\n",
      "5 bad lines found in input file\n",
      "\n"
     ]
    }
   ],
   "source": [
    "path = '/Volumes/MASSIVEUNIT/Work/SOCHIC_2022/Sailbuoy/data/DATA.TXT'\n",
    "\n",
    "ds = dl_tools.load_data(path)\n",
    "ds = dl_tools.fix_standard_attrs(ds)\n",
    "ds = dl_tools.fix_airmar(ds)\n",
    "ds = dl_tools.fix_dcps(ds)\n",
    "ds = dl_tools.fix_aadi(ds)\n",
    "ds = ds.sortby('time').sel(time=slice('2022-01-10','2022-07-17'))"
   ]
  },
  {
   "cell_type": "code",
   "execution_count": 8,
   "id": "bed25c1f-1340-40c1-8017-6e2268b760b0",
   "metadata": {},
   "outputs": [],
   "source": [
    "ds.attrs['title']                   = 'SB Kringla Datalogger'\n",
    "ds.attrs['summary']                 = 'Datalogger output from Sailbuoy Kringla'\n",
    "ds.attrs['conventions']             = 'CF-1.6, ACDD-1.3'\n",
    "ds.attrs['creator_name']            = 'Johan Edholm'\n",
    "ds.attrs['platform']                = 'Uncrewed surface vehicle'\n",
    "ds.attrs['instrument_name']         = 'Kringla'\n",
    "ds.attrs['instrument_id']           = '1812'\n",
    "ds.attrs['institution']             = 'University of Gothenburg'\n",
    "ds.attrs['creator_email']           = 'johan.edholm@gu.se'\n",
    "ds.attrs['area']                    = 'Southern Ocean'\n",
    "ds.attrs['project']                 = 'SO-CHIC'\n",
    "ds.attrs['id']                      = 'SB Kringla Datalogger SO-CHIC'\n",
    "ds.attrs['instrument']              = 'Offshore Sensing AS Sailbuoy'\n",
    "ds.attrs['owner']                   = 'University of Gothenburg'\n",
    "ds.attrs['contact']                 = 'sebastiaan.swart@marine.gu.se'\n",
    "ds.attrs['processing_date']         = str(date.today())\n",
    "ds.attrs['processing_level']        = '2'\n",
    "ds.attrs['time_coverate_start']     = str(ds.time[0].values)\n",
    "ds.attrs['time_coverate_end']       = str(ds.time[-1].values)\n",
    "ds.attrs['geospatial_lat_min']      = str(ds.latitude.min().values)\n",
    "ds.attrs['geospatial_lat_max']      = str(ds.latitude.max().values)\n",
    "ds.attrs['geospatial_lon_min']      = str(ds.longitude.min().values)\n",
    "ds.attrs['geospatial_lon_max']      = str(ds.longitude.max().values)"
   ]
  },
  {
   "cell_type": "code",
   "execution_count": null,
   "id": "5ac5b85f-5dc8-4087-a907-e126d796c97b",
   "metadata": {},
   "outputs": [],
   "source": []
  }
 ],
 "metadata": {
  "kernelspec": {
   "display_name": "Python 3 (ipykernel)",
   "language": "python",
   "name": "python3"
  },
  "language_info": {
   "codemirror_mode": {
    "name": "ipython",
    "version": 3
   },
   "file_extension": ".py",
   "mimetype": "text/x-python",
   "name": "python",
   "nbconvert_exporter": "python",
   "pygments_lexer": "ipython3",
   "version": "3.10.4"
  }
 },
 "nbformat": 4,
 "nbformat_minor": 5
}
