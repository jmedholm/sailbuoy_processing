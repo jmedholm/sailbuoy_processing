{
 "cells": [
  {
   "cell_type": "code",
   "execution_count": 2,
   "id": "4a065a9d-7e8d-4f76-94ba-2e64ff274756",
   "metadata": {},
   "outputs": [
    {
     "name": "stdout",
     "output_type": "stream",
     "text": [
      "The autoreload extension is already loaded. To reload it, use:\n",
      "  %reload_ext autoreload\n"
     ]
    }
   ],
   "source": [
    "%load_ext autoreload\n",
    "%autoreload 1\n",
    "\n",
    "%matplotlib inline\n",
    "\n",
    "import xarray as xr\n",
    "import pandas as pd\n",
    "import datetime\n",
    "import matplotlib.dates as mdates\n",
    "import gsw\n",
    "import glidertools as gt\n",
    "from tqdm.notebook import tqdm_notebook as tqdm\n",
    "import geomag\n",
    "from cmocean import cm as cmo\n",
    "import matplotlib.image as mpimg\n",
    "import matplotlib as mpl\n",
    "import cartopy.crs as ccrs\n",
    "from mpl_toolkits.axes_grid1 import make_axes_locatable\n",
    "from matplotlib.ticker import (MultipleLocator, FormatStrFormatter,AutoMinorLocator)\n",
    "from tqdm.notebook import tqdm_notebook as tqdm\n",
    "from cartopy.mpl.gridliner import LONGITUDE_FORMATTER, LATITUDE_FORMATTER\n",
    "import seaborn as sns\n",
    "import matplotlib.ticker as mticker\n",
    "import sys\n",
    "from datetime import date\n",
    "\n",
    "sys.path.append('/Volumes/MASSIVEUNIT/Work/SOCHIC_2022/sailbuoy_processing/code/')\n",
    "\n",
    "%aimport dl_tools\n",
    "\n",
    "font = {'family' : 'Avenir',\n",
    "        'weight' : 'normal',\n",
    "        'size'   : 30}\n",
    "\n",
    "mpl.rc('font', **font)\n",
    "\n",
    "mpl.rcParams['xtick.major.size'] = 10\n",
    "mpl.rcParams['xtick.major.width'] = 2\n",
    "mpl.rcParams['xtick.minor.size'] = 6\n",
    "mpl.rcParams['xtick.minor.width'] = 1\n",
    "\n",
    "def rot_ticks(axs,rot,ha):\n",
    "    for xlabels in axs.get_xticklabels():\n",
    "                xlabels.set_rotation(rot)\n",
    "                xlabels.set_ha(ha)"
   ]
  },
  {
   "cell_type": "markdown",
   "id": "449436a1-d818-4021-94e6-e0cc71b62896",
   "metadata": {
    "tags": []
   },
   "source": [
    "# SB Kringla"
   ]
  },
  {
   "cell_type": "markdown",
   "id": "8dbec206-27b8-4145-9eff-651b18242654",
   "metadata": {},
   "source": [
    "Load and prep the data.txt from the datalogger."
   ]
  },
  {
   "cell_type": "code",
   "execution_count": 3,
   "id": "96b10766-76b5-40de-863e-2098c2bd494e",
   "metadata": {},
   "outputs": [
    {
     "data": {
      "application/vnd.jupyter.widget-view+json": {
       "model_id": "92c0417ddcc441ed866d7d869b490f4a",
       "version_major": 2,
       "version_minor": 0
      },
      "text/plain": [
       "Checking lines in input file:   0%|          | 0/20213 [00:00<?, ?it/s]"
      ]
     },
     "metadata": {},
     "output_type": "display_data"
    },
    {
     "name": "stdout",
     "output_type": "stream",
     "text": [
      "20208 good measurements found in input file\n",
      "5 bad lines found in input file\n",
      "\n"
     ]
    }
   ],
   "source": [
    "path = '/Volumes/MASSIVEUNIT/Work/SOCHIC_2022/Sailbuoy/data/DATA.TXT'\n",
    "\n",
    "ds = dl_tools.load_data(path)                                        # Loading the data\n",
    "ds = dl_tools.fix_standard_attrs(ds)                                 # Setting attributes and names for the standard variables\n",
    "ds = dl_tools.fix_airmar(ds)                                         # Setting attributes and names for the Airmar variables\n",
    "ds = dl_tools.fix_dcps(ds)                                           # Setting attributes and names for the DCPS variables\n",
    "ds = dl_tools.fix_aadi(ds)                                           # Setting attributes and names for the AADI Conductivity variables\n",
    "ds = ds.sortby('time').sel(time=slice('2022-01-10','2022-07-17'))    # Sorting in time, and selecting the time for the mission"
   ]
  },
  {
   "cell_type": "markdown",
   "id": "6a4cd9f4-753d-4868-913b-5b40ee92b967",
   "metadata": {},
   "source": [
    "#### Assigning the metadata"
   ]
  },
  {
   "cell_type": "code",
   "execution_count": 4,
   "id": "bed25c1f-1340-40c1-8017-6e2268b760b0",
   "metadata": {},
   "outputs": [],
   "source": [
    "ds.attrs['title']                   = 'SB Kringla Datalogger'\n",
    "ds.attrs['summary']                 = 'Datalogger output from Sailbuoy Kringla'\n",
    "ds.attrs['conventions']             = 'CF-1.6, ACDD-1.3'\n",
    "ds.attrs['creator_name']            = 'Johan Edholm'\n",
    "ds.attrs['platform']                = 'Uncrewed surface vehicle'\n",
    "ds.attrs['instrument_name']         = 'Kringla'\n",
    "ds.attrs['instrument_id']           = '1812'\n",
    "ds.attrs['institution']             = 'University of Gothenburg'\n",
    "ds.attrs['creator_email']           = 'johan.edholm@gu.se'\n",
    "ds.attrs['area']                    = 'Southern Ocean'\n",
    "ds.attrs['project']                 = 'SO-CHIC'\n",
    "ds.attrs['id']                      = 'SB Kringla Datalogger SO-CHIC'\n",
    "ds.attrs['instrument']              = 'Offshore Sensing AS Sailbuoy'\n",
    "ds.attrs['owner']                   = 'University of Gothenburg'\n",
    "ds.attrs['contact']                 = 'sebastiaan.swart@marine.gu.se'\n",
    "ds.attrs['processing_date']         = str(date.today())\n",
    "ds.attrs['processing_level']        = '2'\n",
    "ds.attrs['time_coverate_start']     = str(ds.time[0].values)\n",
    "ds.attrs['time_coverate_end']       = str(ds.time[-1].values)\n",
    "ds.attrs['geospatial_lat_min']      = str(ds.latitude.min().values)\n",
    "ds.attrs['geospatial_lat_max']      = str(ds.latitude.max().values)\n",
    "ds.attrs['geospatial_lon_min']      = str(ds.longitude.min().values)\n",
    "ds.attrs['geospatial_lon_max']      = str(ds.longitude.max().values)"
   ]
  },
  {
   "cell_type": "code",
   "execution_count": 6,
   "id": "c2606178-0aae-4068-ae61-d5877db81c43",
   "metadata": {},
   "outputs": [],
   "source": [
    "ds.to_netcdf('/Volumes/MASSIVEUNIT/Work/SOCHIC_2022/Sailbuoy/data/data.nc')"
   ]
  },
  {
   "cell_type": "code",
   "execution_count": 7,
   "id": "5c445672-d313-46e0-a523-62d2d4015b57",
   "metadata": {},
   "outputs": [
    {
     "ename": "NameError",
     "evalue": "name 'plotting' is not defined",
     "output_type": "error",
     "traceback": [
      "\u001b[0;31m---------------------------------------------------------------------------\u001b[0m",
      "\u001b[0;31mNameError\u001b[0m                                 Traceback (most recent call last)",
      "Cell \u001b[0;32mIn [7], line 20\u001b[0m\n\u001b[1;32m     18\u001b[0m \u001b[38;5;28;01mfor\u001b[39;00m i \u001b[38;5;129;01min\u001b[39;00m \u001b[38;5;28mrange\u001b[39m(\u001b[38;5;241m4\u001b[39m):\n\u001b[1;32m     19\u001b[0m     tmp \u001b[38;5;241m=\u001b[39m ds\u001b[38;5;241m.\u001b[39msel(time\u001b[38;5;241m=\u001b[39mtimes[i])\n\u001b[0;32m---> 20\u001b[0m     plotting\u001b[38;5;241m.\u001b[39mNE_panels(ds \u001b[38;5;241m=\u001b[39m tmp,\n\u001b[1;32m     21\u001b[0m                        var \u001b[38;5;241m=\u001b[39m [\u001b[38;5;124m'\u001b[39m\u001b[38;5;124mc_v_corr\u001b[39m\u001b[38;5;124m'\u001b[39m,\u001b[38;5;124m'\u001b[39m\u001b[38;5;124mc_u_corr\u001b[39m\u001b[38;5;124m'\u001b[39m,\u001b[38;5;124m'\u001b[39m\u001b[38;5;124mtotal_shear\u001b[39m\u001b[38;5;124m'\u001b[39m],\n\u001b[1;32m     22\u001b[0m                        vmin \u001b[38;5;241m=\u001b[39m [\u001b[38;5;241m-\u001b[39m\u001b[38;5;241m0.75\u001b[39m,\u001b[38;5;241m-\u001b[39m\u001b[38;5;241m0.75\u001b[39m,\u001b[38;5;241m0\u001b[39m],\n\u001b[1;32m     23\u001b[0m                        vmax \u001b[38;5;241m=\u001b[39m [\u001b[38;5;241m0.75\u001b[39m,\u001b[38;5;241m0.75\u001b[39m,vmaxs[i]],\n\u001b[1;32m     24\u001b[0m                        cmap \u001b[38;5;241m=\u001b[39m [cmo\u001b[38;5;241m.\u001b[39mbalance,cmo\u001b[38;5;241m.\u001b[39mbalance,cmo\u001b[38;5;241m.\u001b[39mspeed],\n\u001b[1;32m     25\u001b[0m                        ylim \u001b[38;5;241m=\u001b[39m (\u001b[38;5;241m40\u001b[39m,\u001b[38;5;241m0\u001b[39m),\n\u001b[1;32m     26\u001b[0m                        path \u001b[38;5;241m=\u001b[39m files[i],\n\u001b[1;32m     27\u001b[0m                        title \u001b[38;5;241m=\u001b[39m titles[i])\n",
      "\u001b[0;31mNameError\u001b[0m: name 'plotting' is not defined"
     ]
    }
   ],
   "source": [
    "times = [slice('2022-04-05 12:00','2022-05-03 12:00'),\n",
    "         slice('2022-05-03 12:00','2022-05-23 14:43:48'),\n",
    "         slice('2022-05-23 14:43:48','2022-06-17 07:23:22'),\n",
    "         slice('2022-06-17 07:23:22','2022-07-17 14:27')]\n",
    "\n",
    "files = ['../figs/transit_data_panels.png',\n",
    "         '../figs/vm_data_panels.png',\n",
    "         '../figs/SBoundary_data_panels.png',\n",
    "         '../figs/675_transect_data_panels.png']\n",
    "\n",
    "titles = ['Transit, 65-57°S',\n",
    "         'Virtual mooring',\n",
    "         'Crossing Southern Boundary',\n",
    "         'Transect with 675']\n",
    "\n",
    "vmaxs = [0.12,0.1,0.15,0.15]\n",
    "\n",
    "for i in range(4):\n",
    "    tmp = ds.sel(time=times[i])\n",
    "    plotting.NE_panels(ds = tmp,\n",
    "                       var = ['c_v_corr','c_u_corr','total_shear'],\n",
    "                       vmin = [-0.75,-0.75,0],\n",
    "                       vmax = [0.75,0.75,vmaxs[i]],\n",
    "                       cmap = [cmo.balance,cmo.balance,cmo.speed],\n",
    "                       ylim = (40,0),\n",
    "                       path = files[i],\n",
    "                       title = titles[i])"
   ]
  },
  {
   "cell_type": "code",
   "execution_count": null,
   "id": "49cc369f-4959-4fa0-bdf2-217f6863f0e7",
   "metadata": {},
   "outputs": [],
   "source": []
  }
 ],
 "metadata": {
  "kernelspec": {
   "display_name": "Python 3 (ipykernel)",
   "language": "python",
   "name": "python3"
  },
  "language_info": {
   "codemirror_mode": {
    "name": "ipython",
    "version": 3
   },
   "file_extension": ".py",
   "mimetype": "text/x-python",
   "name": "python",
   "nbconvert_exporter": "python",
   "pygments_lexer": "ipython3",
   "version": "3.10.6"
  }
 },
 "nbformat": 4,
 "nbformat_minor": 5
}
